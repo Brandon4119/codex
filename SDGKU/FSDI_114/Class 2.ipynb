{
 "cells": [
  {
   "cell_type": "code",
   "execution_count": 2,
   "id": "554f291e-b3be-45bb-9067-cadd17a5469b",
   "metadata": {},
   "outputs": [],
   "source": [
    "# Simplified implementation of Stack (using built-in data structures)\n",
    "\n",
    "class Stack:\n",
    "    def __init__(self):\n",
    "        self.items = []\n",
    "\n",
    "    def push(self, value):\n",
    "        self.items.append(value)\n",
    "\n",
    "    def pop(self):\n",
    "        return self.items.pop()\n",
    "\n",
    "    # Nice to have methods:\n",
    "    def size(self):\n",
    "        return len(self.items)\n",
    "\n",
    "    def peek(self):\n",
    "        return self.items[len(self.items)-1]\n",
    "\n",
    "    def is_empty(self):\n",
    "        return self.items == []"
   ]
  },
  {
   "cell_type": "code",
   "execution_count": 5,
   "id": "582c36c9-e022-4b6f-84cf-d499c0493d80",
   "metadata": {},
   "outputs": [],
   "source": [
    "def invert_str(mystring):\n",
    "    stack = Stack()\n",
    "    out = \"\"\n",
    "    for char in mystring:\n",
    "        stack.push(char)\n",
    "    while not stack.is_empty():\n",
    "        out += stack.pop()\n",
    "    return out"
   ]
  },
  {
   "cell_type": "code",
   "execution_count": 6,
   "id": "0aa0af67-6b64-472b-ad75-f916822b0ff6",
   "metadata": {},
   "outputs": [
    {
     "data": {
      "text/plain": [
       "'nodnarB'"
      ]
     },
     "execution_count": 6,
     "metadata": {},
     "output_type": "execute_result"
    }
   ],
   "source": [
    "invert_str(\"Brandon\")"
   ]
  },
  {
   "cell_type": "code",
   "execution_count": 12,
   "id": "aa2a27de-d585-43f6-bafe-e9544ec3e134",
   "metadata": {},
   "outputs": [],
   "source": [
    "# From scratch implementation of stack\n",
    "\n",
    "# Class StackII:\n",
    "class __Node:\n",
    "    def __init__(self, data):\n",
    "        self.data = data\n",
    "        self.below = None\n",
    "\n",
    "def __init__(self):\n",
    "    self.top = None\n",
    "\n",
    "def push(self, value):\n",
    "    # Create\n",
    "    new_node = self.__Node(value)\n",
    "    # Let's\n",
    "    if not self.top:\n",
    "        self.top = new_node\n",
    "    else:\n",
    "        # our stack is not empty:\n",
    "        old_top = self.top\n",
    "        self.top = new_node\n",
    "        new_node.below = old_top\n",
    "    \n",
    "def pop(self):\n",
    "    # If stack is not empty:\n",
    "    if self.top:\n",
    "        node_below = self.top.below\n",
    "        top_value = self.top.data\n",
    "        self.top = node_below\n",
    "        return top_value\n",
    "    # If stack is empty:\n",
    "    raise IndexError(\"Stack is empty\")\n",
    "\n",
    "# Nice to have methods\n",
    "def peek(self):\n",
    "    if self.top:\n",
    "        return self.top.data\n",
    "    raise IndexError(\"Stack is empty\")\n",
    "        \n",
    "\n",
    "def size(self):\n",
    "    count = 0\n",
    "    current = self.top\n",
    "    while current:\n",
    "        count += 1\n",
    "        current = current.below\n",
    "    return \n",
    "\n",
    "def is_empty(self):\n",
    "    return self.top == None\n",
    "        "
   ]
  },
  {
   "cell_type": "code",
   "execution_count": null,
   "id": "8df128a3-3a24-45e7-a802-ac4a50cdd477",
   "metadata": {},
   "outputs": [],
   "source": [
    "class QueueII:\n",
    "    class __Node:\n",
    "        def __init__(self, data):\n",
    "            self.data = data\n",
    "            self.next = None\n",
    "    def __init__(self):\n",
    "        self.rear = None\n",
    "        self.front = None\n",
    "    def enqueue(self, value):\n",
    "        pass\n",
    "    def dequeue(self):\n",
    "        pass"
   ]
  }
 ],
 "metadata": {
  "kernelspec": {
   "display_name": "Python 3 (ipykernel)",
   "language": "python",
   "name": "python3"
  },
  "language_info": {
   "codemirror_mode": {
    "name": "ipython",
    "version": 3
   },
   "file_extension": ".py",
   "mimetype": "text/x-python",
   "name": "python",
   "nbconvert_exporter": "python",
   "pygments_lexer": "ipython3",
   "version": "3.11.4"
  }
 },
 "nbformat": 4,
 "nbformat_minor": 5
}
