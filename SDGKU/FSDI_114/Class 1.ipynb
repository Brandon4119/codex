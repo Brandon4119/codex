{
 "cells": [
  {
   "cell_type": "code",
   "execution_count": 1,
   "id": "423586d1-1b4a-467b-b4ec-b1a5352b1c22",
   "metadata": {},
   "outputs": [
    {
     "name": "stdout",
     "output_type": "stream",
     "text": [
      "h\n",
      "e\n",
      "l\n",
      "l\n",
      "o\n",
      ",\n",
      " \n",
      "w\n",
      "o\n",
      "r\n",
      "l\n",
      "d\n"
     ]
    }
   ],
   "source": [
    "for letter in \"hello, world\":\n",
    "    print(letter)"
   ]
  },
  {
   "cell_type": "markdown",
   "id": "fc1fb857-c4df-4906-8f2d-90c2a0a36ab2",
   "metadata": {},
   "source": [
    "# Problem 1\n",
    "\n",
    "## Anagram Check\n",
    "\n",
    "### Create a function that receives two strings as parameters and returns True if these are anagrams of each other, False otherwise.\n",
    "\n",
    "#### Criteria\n",
    "Two strings are anagrams of each other if (and only if):\n",
    "1. They contain all the same letters.\n",
    "2. They use the same letters the same amount of time.\n",
    "3. They contain the same amount of letters.\n",
    "\n",
    "```\n",
    "Examples:\n",
    "heart and earth\n",
    "scar and cars\n",
    "star and rats\n",
    "```"
   ]
  },
  {
   "cell_type": "code",
   "execution_count": null,
   "id": "23289811-acd5-45ca-b859-2aab888502e3",
   "metadata": {},
   "outputs": [],
   "source": [
    "Anagram check\n",
    "anagram_check (string 1, string 2)\n",
    "1. Delete spaces\n",
    "2. Add letters from both strings\n",
    "3. Return true if using same letters"
   ]
  }
 ],
 "metadata": {
  "kernelspec": {
   "display_name": "Python 3 (ipykernel)",
   "language": "python",
   "name": "python3"
  },
  "language_info": {
   "codemirror_mode": {
    "name": "ipython",
    "version": 3
   },
   "file_extension": ".py",
   "mimetype": "text/x-python",
   "name": "python",
   "nbconvert_exporter": "python",
   "pygments_lexer": "ipython3",
   "version": "3.11.4"
  }
 },
 "nbformat": 4,
 "nbformat_minor": 5
}
