{
 "cells": [
  {
   "cell_type": "code",
   "execution_count": 19,
   "id": "229b3c91-1279-4a67-a39d-c9fa9986c9c9",
   "metadata": {},
   "outputs": [],
   "source": [
    "# Doubly Linked Lists\n",
    "\n",
    "class DoublyLinkedList:\n",
    "    class __Node:\n",
    "        def __init__(self, data):\n",
    "            self.data = data\n",
    "            self.next = None\n",
    "            self.prev = None\n",
    "\n",
    "    def __init__(self):\n",
    "        self.head = None\n",
    "\n",
    "    def append(self, value):\n",
    "        # step 0: create a new node\n",
    "        new_node = self.__Node(value)\n",
    "        # step 1: check if head is empty\n",
    "        if not self.head:\n",
    "            self.head = new_node\n",
    "        else:\n",
    "            current = self.head\n",
    "            while current.next:\n",
    "                current = current.next\n",
    "            current.next = new_node\n",
    "            new_node.prev = current\n",
    "\n",
    "    def insert(self, index, value):\n",
    "        pass\n",
    "\n",
    "    def remove(self, value):\n",
    "        pass\n",
    "                \n",
    "    def __len__(self):\n",
    "        return 0\n",
    "\n",
    "    def __str__(self):\n",
    "        out = \"[\"\n",
    "        current = self.head\n",
    "        if current:\n",
    "            out += \"%s\" % repr(current.data)\n",
    "            current = current.next\n",
    "            while current:\n",
    "                out += \", %s\" % repr(current.data)\n",
    "                current = current.next\n",
    "            out += \"]\"\n",
    "            return out\n",
    "\n",
    "    def __repr__(self):\n",
    "        return self.__str__()"
   ]
  },
  {
   "cell_type": "markdown",
   "id": "22bee243-3028-4325-9db4-51f8654e60a8",
   "metadata": {},
   "source": [
    "# Problem 1: The Matrix\n",
    "\n",
    "## Using the DoublyLinkedList class (above) create a class called \"Matrix\" which generates an nxm grid.\n",
    "\n",
    "```\n",
    "Example:\n",
    "mat = Matrix()\n",
    "for i in range(3):\n",
    "    dll = DoublyLinkedList:\n",
    "    for j in range(3):\n",
    "        dll.append(j)\n",
    "    mat.append(dll)\n",
    "\n",
    "This code above should produce:\n",
    "[[0, 1, 2], [0, 1, 2], [0, 1, 2]]\n",
    "\n",
    "```\n",
    "\n",
    "## Bonus\n",
    "As an additional step, get your matrix to display like this:\n",
    "```\n",
    "0 1 2\n",
    "0 1 2\n",
    "0 1 2\n",
    "```"
   ]
  },
  {
   "cell_type": "code",
   "execution_count": 23,
   "id": "c694fe15-d9bd-4e86-bffe-6c81cefd86a1",
   "metadata": {},
   "outputs": [],
   "source": [
    "class Matrix:\n",
    "    def __init__(self, n=3, m=3):\n",
    "        self.m = n\n",
    "        self.m = m\n",
    "        self.container = DoublyLinkedList()\n",
    "\n",
    "    def append(self, dll):\n",
    "        self.container.append(dll)\n",
    "\n",
    "    def __str__(self):\n",
    "        print(self.container)        "
   ]
  },
  {
   "cell_type": "code",
   "execution_count": 24,
   "id": "1054ebb3-598a-4c40-87ce-049b610438dc",
   "metadata": {},
   "outputs": [
    {
     "name": "stdout",
     "output_type": "stream",
     "text": [
      "[[0, 1, 2, 3, 4], [0, 1, 2, 3, 4], [0, 1, 2, 3, 4], [0, 1, 2, 3, 4], [0, 1, 2, 3, 4]]\n"
     ]
    },
    {
     "ename": "TypeError",
     "evalue": "__str__ returned non-string (type NoneType)",
     "output_type": "error",
     "traceback": [
      "\u001b[0;31m---------------------------------------------------------------------------\u001b[0m",
      "\u001b[0;31mTypeError\u001b[0m                                 Traceback (most recent call last)",
      "Cell \u001b[0;32mIn[24], line 9\u001b[0m\n\u001b[1;32m      6\u001b[0m         temp_list\u001b[38;5;241m.\u001b[39mappend(j)\n\u001b[1;32m      7\u001b[0m     mat\u001b[38;5;241m.\u001b[39mappend(temp_list)\n\u001b[0;32m----> 9\u001b[0m \u001b[38;5;28;43mprint\u001b[39;49m\u001b[43m(\u001b[49m\u001b[43mmat\u001b[49m\u001b[43m)\u001b[49m\n",
      "\u001b[0;31mTypeError\u001b[0m: __str__ returned non-string (type NoneType)"
     ]
    }
   ],
   "source": [
    "mat = Matrix()\n",
    "\n",
    "for i in range(5):\n",
    "    temp_list = DoublyLinkedList()\n",
    "    for j in range(5):\n",
    "        temp_list.append(j)\n",
    "    mat.append(temp_list)\n",
    "\n",
    "print(mat)"
   ]
  },
  {
   "cell_type": "code",
   "execution_count": 25,
   "id": "6f638a0a-9e82-405a-9841-b76cb7aab5c2",
   "metadata": {},
   "outputs": [],
   "source": [
    "# A recursive is one that calls itself at least once.\n",
    "# Another important premise of a recursive function is that it should have an exit condition\n",
    "# typically referred to as the \"base case\"."
   ]
  },
  {
   "cell_type": "code",
   "execution_count": 28,
   "id": "ede14801-448e-411d-8c20-2ddf37f8d983",
   "metadata": {},
   "outputs": [],
   "source": [
    "# A simple example\n",
    "# the factorial function\n",
    "# A factorial of an integer N is typically denoted N! and is the result of multiplying like so:\n",
    "# Nx(N-1)x(N-2)xNx3...x1\n",
    "# Ex: 5! = 5x4x3x2x1\n",
    "# One important convention is that 0! = 1\n",
    "\n",
    "# Represented as a recursive function:\n",
    "def fact (n):\n",
    "    if n == 0:\n",
    "        return 1\n",
    "    return n*fact(n-1)"
   ]
  },
  {
   "cell_type": "code",
   "execution_count": 29,
   "id": "9354d05c-9389-44ca-a566-a46f805a1e66",
   "metadata": {},
   "outputs": [
    {
     "data": {
      "text/plain": [
       "120"
      ]
     },
     "execution_count": 29,
     "metadata": {},
     "output_type": "execute_result"
    }
   ],
   "source": [
    "fact(5)"
   ]
  },
  {
   "cell_type": "code",
   "execution_count": 32,
   "id": "e64011e0-8ba4-48e2-90b6-c91f57e687e9",
   "metadata": {},
   "outputs": [],
   "source": [
    "# The fibonacci series\n",
    "# Fib(n) = Fib(n-1)+Fib(n-2)\n",
    "# The base case for fibonacci\n",
    "# FO = 0, F1 = 1\n",
    "# So if we wanted to calculate F2:\n",
    "# F2 = FI + FO\n",
    "# F3 = F2 + F1\n",
    "# Example:\n",
    "# 0, 1, 1, 2, 3, 5, 8, 13, 21\n",
    "\n",
    "from functools import lru_cache\n",
    "\n",
    "# Recursive function example:\n",
    "@lru_cache\n",
    "def fib(n):\n",
    "    if n < 2:\n",
    "        return n\n",
    "    return fib(n-1) + fib(n-2)"
   ]
  },
  {
   "cell_type": "code",
   "execution_count": 36,
   "id": "f354cf71-42ae-4043-baf8-edd837fa7ae1",
   "metadata": {},
   "outputs": [
    {
     "data": {
      "text/plain": [
       "9969216677189303386214405760200"
      ]
     },
     "execution_count": 36,
     "metadata": {},
     "output_type": "execute_result"
    }
   ],
   "source": [
    "fib(150)"
   ]
  },
  {
   "cell_type": "code",
   "execution_count": 38,
   "id": "689a0c86-46f0-4c08-83b1-27b64321d444",
   "metadata": {},
   "outputs": [],
   "source": [
    "# One list for keys\n",
    "# One list for values\n",
    "# These two lists must be of equal length at all times\n",
    "keys = [0, 1, 2, 3, 4, 5, 6, 7, 8]\n",
    "values = [0, 1, 2, 2, 3, 5, 8, 13, 21]"
   ]
  },
  {
   "cell_type": "code",
   "execution_count": null,
   "id": "946e8c4d-dd2e-4e58-9f49-20d225ca199d",
   "metadata": {},
   "outputs": [],
   "source": []
  }
 ],
 "metadata": {
  "kernelspec": {
   "display_name": "Python 3 (ipykernel)",
   "language": "python",
   "name": "python3"
  },
  "language_info": {
   "codemirror_mode": {
    "name": "ipython",
    "version": 3
   },
   "file_extension": ".py",
   "mimetype": "text/x-python",
   "name": "python",
   "nbconvert_exporter": "python",
   "pygments_lexer": "ipython3",
   "version": "3.11.4"
  }
 },
 "nbformat": 4,
 "nbformat_minor": 5
}
