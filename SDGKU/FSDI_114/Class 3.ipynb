{
 "cells": [
  {
   "cell_type": "markdown",
   "id": "e1f50502-1450-4485-9163-6f12d27bb5c3",
   "metadata": {},
   "source": [
    "# Linked Lists"
   ]
  },
  {
   "cell_type": "code",
   "execution_count": 5,
   "id": "5586a652-c4e1-4369-a984-33ead4cecd4d",
   "metadata": {},
   "outputs": [],
   "source": [
    "# From scratch implementation of Singly Linked Lists\n",
    "\n",
    "class SinglyLinkedList:\n",
    "    class __Node:\n",
    "        def __init__(self, data):\n",
    "            self.data = data\n",
    "            self.next = None\n",
    "\n",
    "    def __init__(self):\n",
    "        self.head = None\n",
    "\n",
    "    def append(self, value):\n",
    "        # step 0: create a new node\n",
    "        new_node = self.__Node(value)\n",
    "        if not self.head:\n",
    "            self.head = new_node\n",
    "        else:\n",
    "            current = self.head\n",
    "            while current.next:\n",
    "                current = current.next\n",
    "            current.next = new_node\n",
    "\n",
    "    def insert(self, index, value):\n",
    "        new_node = self.__Node(1)\n",
    "    if self.head = None:\n",
    "        self.head = new_node\n",
    "    else:\n",
    "        current = self.head\n",
    "        while current.next:\n",
    "            current = current.next\n",
    "        current.next = new_node\n",
    "\n",
    "    def remove(self, value):\n",
    "        if not self.head:\n",
    "            raise ValueError(\"The list is empty\")\n",
    "        else:\n",
    "            current = self.head\n",
    "            if current.data == value:\n",
    "                self.head = self.head.next\n",
    "            else:\n",
    "                previous = None\n",
    "                while current.data != value and current.next:\n",
    "                    previous = current\n",
    "                    current = current.next\n",
    "                if current.data == value:\n",
    "                    previous.next = current.next\n",
    "                else:\n",
    "                    raise ValueError(\"Value not found\")\n",
    "\n",
    "    def index(self, value):\n",
    "        pass\n",
    "\n",
    "    def search(self, index):\n",
    "        pass\n",
    "\n",
    "    def __len__(self):\n",
    "        return 0\n",
    "\n",
    "    def __str__(self):\n",
    "        out = \"[\"\n",
    "        current = self.head\n",
    "        if current:\n",
    "            out += \"%s\" % repr(current.data)\n",
    "            current = current.next\n",
    "            while current:\n",
    "                out += \", %s\" % repr(current.data)\n",
    "                current = current.next\n",
    "            out += \"]\"\n",
    "            return out\n",
    "\n",
    "    def __repr__(self):\n",
    "        return self.__str__()"
   ]
  },
  {
   "cell_type": "code",
   "execution_count": 8,
   "id": "24ee0965-d6ec-4a2e-a609-915fcd82cffb",
   "metadata": {},
   "outputs": [
    {
     "name": "stdout",
     "output_type": "stream",
     "text": [
      "['B', 'r', 'a', 'n', 'd', 'o', 'n']\n"
     ]
    }
   ],
   "source": [
    "mylist = SinglyLinkedList()\n",
    "# print(mylist)\n",
    "# mylist.append(1)\n",
    "# print(mylist)\n",
    "# mylist.append(2)\n",
    "# print(mylist)\n",
    "for letter in \"Brandon\":\n",
    "    mylist.append(letter)\n",
    "\n",
    "print(mylist)\n"
   ]
  },
  {
   "cell_type": "code",
   "execution_count": 1,
   "id": "44decd25-c423-456a-a8d8-d112f8809e2e",
   "metadata": {},
   "outputs": [],
   "source": [
    "# what if list it empty?\n",
    "# what if there is 1 element?\n",
    "# What if more than one element?\n",
    "# Actions that can happen\n",
    "\n",
    "# Check if list is empty\n",
    "# if empty create new node\n",
    "# else replace head\n",
    "\n",
    "# Insert node and set as new head\n",
    "# Check size of the list\n",
    "# Check the head of the list\n"
   ]
  },
  {
   "cell_type": "code",
   "execution_count": null,
   "id": "453dd639-5505-4424-8078-b7436bf2ad34",
   "metadata": {},
   "outputs": [],
   "source": []
  }
 ],
 "metadata": {
  "kernelspec": {
   "display_name": "Python 3 (ipykernel)",
   "language": "python",
   "name": "python3"
  },
  "language_info": {
   "codemirror_mode": {
    "name": "ipython",
    "version": 3
   },
   "file_extension": ".py",
   "mimetype": "text/x-python",
   "name": "python",
   "nbconvert_exporter": "python",
   "pygments_lexer": "ipython3",
   "version": "3.11.4"
  }
 },
 "nbformat": 4,
 "nbformat_minor": 5
}
